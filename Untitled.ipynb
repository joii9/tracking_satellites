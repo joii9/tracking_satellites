{
 "cells": [
  {
   "cell_type": "code",
   "execution_count": 21,
   "id": "57192d82-9efe-43f7-a94e-840f87b11d92",
   "metadata": {},
   "outputs": [
    {
     "data": {
      "text/plain": [
       "(221,\n",
       " b'2.0.0 closing connection 46e09a7af769-735af9bc85bsm1603856a34.46 - gsmtp')"
      ]
     },
     "execution_count": 21,
     "metadata": {},
     "output_type": "execute_result"
    }
   ],
   "source": [
    "import email_to\n",
    "from email import encoders\n",
    "from email.mime.base import MIMEBase\n",
    "from email.mime.multipart import MIMEMultipart\n",
    "from email.mime.text import MIMEText\n",
    "import smtplib\n",
    "\n",
    "message = MIMEMultipart()\n",
    "message['From'] = 'joel.c.mz9@gmail.com'\n",
    "message['To'] = 'joel.cm@outlook.com'\n",
    "message['Subject'] = 'ALERTA'\n",
    "\n",
    "filename= \"track_satellite.txt\"\n",
    "with open(filename, \"rb\") as attachment:\n",
    "    part= MIMEBase(\"application\", \"octet-stream\")\n",
    "    part.set_payload(attachment.read())\n",
    "\n",
    "encoders.encode_base64(part)\n",
    "part.add_header(\"Content-Disposition\", f\"attachment; filename= {filename}\")\n",
    "message.attach(part)\n",
    "\n",
    "message.attach(MIMEText('Favor de revisar el archivo adjunto', 'plain')) #\\n it is possible to insert a \\new line\n",
    "\n",
    "server = smtplib.SMTP('smtp.gmail.com', 587)\n",
    "server.starttls()\n",
    "server.login('joel.c.mz9@gmail.com', 'fnfvxjoqienkfcgk')\n",
    "server.sendmail('joel.c.mz9@gmail.com','joel.cm@outlook.com', message.as_string()) #alejandro.hernandez.flores@finabien.gob.mx\n",
    "server.quit()"
   ]
  },
  {
   "cell_type": "code",
   "execution_count": null,
   "id": "d981b303-ad6d-41cd-806c-550aa91f7975",
   "metadata": {},
   "outputs": [],
   "source": [
    "filename = \"your_file.txt\"\n",
    "with open(filename, \"rb\") as attachment:\n",
    "    part = MIMEBase(\"application\", \"octet-stream\")\n",
    "    part.set_payload(attachment.read())\n",
    "\n",
    "encoders.encode_base64(part)\n",
    "part.add_header(\"Content-Disposition\", f\"attachment; filename= {filename}\")\n",
    "msg.attach(part)"
   ]
  },
  {
   "cell_type": "code",
   "execution_count": 18,
   "id": "943082e0-9450-42dd-8908-70dfa9ee8fb1",
   "metadata": {},
   "outputs": [],
   "source": [
    "import"
   ]
  },
  {
   "cell_type": "code",
   "execution_count": null,
   "id": "ed593f93-d2a6-472e-8796-c372a1ffb7fa",
   "metadata": {},
   "outputs": [],
   "source": [
    "import email_to\n",
    "\n",
    "server = email_to.EmailServer('smtp.gmail.com', 587, 'geo.alert.mexsat@gmail.com', 'testgeoalert')\n",
    "\n",
    "message = server.message()\n",
    "message.add('# Oh boy, something went wrong!')\n",
    "message.add('- The server had a hiccup')\n",
    "message.add('- The power went out')\n",
    "message.add('- Blame it on a rogue backhoe')\n",
    "message.style = 'h1 { color: red}'\n",
    "\n",
    "message.send('joel.c.mz9@gmail.com', 'Things did not occur as expected')"
   ]
  },
  {
   "cell_type": "code",
   "execution_count": null,
   "id": "fa82dc34-314b-461f-a57e-16bbd3e3223a",
   "metadata": {},
   "outputs": [],
   "source": [
    "\n",
    "\n"
   ]
  }
 ],
 "metadata": {
  "kernelspec": {
   "display_name": "Python 3 (ipykernel)",
   "language": "python",
   "name": "python3"
  },
  "language_info": {
   "codemirror_mode": {
    "name": "ipython",
    "version": 3
   },
   "file_extension": ".py",
   "mimetype": "text/x-python",
   "name": "python",
   "nbconvert_exporter": "python",
   "pygments_lexer": "ipython3",
   "version": "3.12.7"
  }
 },
 "nbformat": 4,
 "nbformat_minor": 5
}
