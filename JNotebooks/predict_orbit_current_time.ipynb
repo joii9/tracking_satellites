{
 "cells": [
  {
   "cell_type": "code",
   "execution_count": 60,
   "id": "0cca42e7-5a6f-4bc4-b7d4-7b540b587e73",
   "metadata": {},
   "outputs": [
    {
     "name": "stdout",
     "output_type": "stream",
     "text": [
      "1 96137U 80060G   20171.64614795 0.00000000  00000-0  00000-0 0    06\n",
      "2 96137  10.5834 309.1333 0011898 290.1602  69.6798  1.00313318    03\n"
     ]
    }
   ],
   "source": [
    "import re\n",
    "#import requests\n",
    "#from bs4 import BeautifulSoup as bs\n",
    "#from requests.packages.urllib3.exceptions import InsecureRequestWarning\n",
    "\n",
    "\n",
    "#requests.packages.urllib3.disable_warnings(InsecureRequestWarning)\n",
    "\n",
    "\n",
    "file = open(\"C:/Users/Joel/Documents/Python/tracking_satellites/txt/Perigee_Apogee_Range_v3.txt\", \"r\")\n",
    "#print(file.read())\n",
    "str_TLEs_PAR=file.read()\n",
    "#print(str_TLEs_PAR)\n",
    "\n",
    "tle_line1= re.findall(r\"1\\s\\d+U.+\", str_TLEs_PAR)#1\\s\\d+U\n",
    "tle_line2= re.findall(r\"2\\s\\d+\\s+\\d+.\\d+\\s+\\d+.\\d+\\s+\\d+\\s+.+\", str_TLEs_PAR)\n",
    "#tle_line2= re.findall(r\"(\\d+)\\nPerigee\", str_TLEs_PAR)\n",
    "#print(len(tle_line1))\n",
    "#print(len(tle_line2))\n",
    "print(tle_line1[898])\n",
    "print(tle_line2[898])"
   ]
  },
  {
   "cell_type": "code",
   "execution_count": 62,
   "id": "dd14b8fb-94d5-4dc4-af67-f43f2fe9c7ae",
   "metadata": {},
   "outputs": [
    {
     "name": "stdout",
     "output_type": "stream",
     "text": [
      "2025-08-12 17:16:02.260215+00:00\n",
      "2025\n",
      "8\n",
      "12\n",
      "17\n"
     ]
    }
   ],
   "source": [
    "from datetime import datetime, timezone, timedelta\n",
    "\n",
    "current_time_utc= datetime.now(timezone.utc)\n",
    "\n",
    "print(current_time_utc)\n",
    "\n",
    "year=current_time_utc.year\n",
    "month=current_time_utc.month\n",
    "day=current_time_utc.day\n",
    "hour=current_time_utc.hour\n",
    "\n",
    "print(year)\n",
    "print(month)\n",
    "print(day)\n",
    "print(hour)"
   ]
  },
  {
   "cell_type": "code",
   "execution_count": 67,
   "id": "f44e61c0-0b85-4a40-a856-58a4e32f8c1b",
   "metadata": {},
   "outputs": [
    {
     "name": "stdout",
     "output_type": "stream",
     "text": [
      "0\n",
      "1\n",
      "2\n",
      "3\n",
      "4\n"
     ]
    }
   ],
   "source": [
    "lista=[0,1,2,3,5]\n",
    "\n",
    "#len(lista)\n",
    "\n",
    "for i in range(len(lista)):\n",
    "    print(i)"
   ]
  },
  {
   "cell_type": "code",
   "execution_count": null,
   "id": "212a2704-d060-4396-a063-e35df6e594ec",
   "metadata": {},
   "outputs": [],
   "source": []
  }
 ],
 "metadata": {
  "kernelspec": {
   "display_name": "Python 3 (ipykernel)",
   "language": "python",
   "name": "python3"
  },
  "language_info": {
   "codemirror_mode": {
    "name": "ipython",
    "version": 3
   },
   "file_extension": ".py",
   "mimetype": "text/x-python",
   "name": "python",
   "nbconvert_exporter": "python",
   "pygments_lexer": "ipython3",
   "version": "3.12.7"
  }
 },
 "nbformat": 4,
 "nbformat_minor": 5
}
