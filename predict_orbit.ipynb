{
 "cells": [
  {
   "cell_type": "code",
   "execution_count": 5,
   "id": "06231f79-5004-45bf-9af1-4c4b837d768f",
   "metadata": {},
   "outputs": [
    {
     "name": "stdout",
     "output_type": "stream",
     "text": [
      "Requirement already satisfied: beyond in c:\\users\\joel\\anaconda3\\lib\\site-packages (0.8)\n",
      "Requirement already satisfied: jplephem in c:\\users\\joel\\anaconda3\\lib\\site-packages (from beyond) (2.23)\n",
      "Requirement already satisfied: lxml in c:\\users\\joel\\anaconda3\\lib\\site-packages (from beyond) (5.2.1)\n",
      "Requirement already satisfied: numpy in c:\\users\\joel\\anaconda3\\lib\\site-packages (from beyond) (1.26.4)\n",
      "Requirement already satisfied: sgp4 in c:\\users\\joel\\anaconda3\\lib\\site-packages (from beyond) (2.24)\n",
      "Note: you may need to restart the kernel to use updated packages.\n"
     ]
    }
   ],
   "source": [
    "pip install beyond"
   ]
  },
  {
   "cell_type": "code",
   "execution_count": 6,
   "id": "4d48d1a4-fe1e-4c97-a464-1509280a4d08",
   "metadata": {},
   "outputs": [
    {
     "name": "stdout",
     "output_type": "stream",
     "text": [
      "AOS 0 Norwich NOAA 15 [B]  2025-07-21T19:13:09.770135  157.02    0.00    3318.31\n",
      "           NOAA 15 [B]  2025-07-21T19:13:21.720597  156.96    0.73    3238.56\n",
      "           NOAA 15 [B]  2025-07-21T19:15:21.720597  155.97    9.40    2442.08\n",
      "           NOAA 15 [B]  2025-07-21T19:17:21.720597  153.58   22.78    1675.31\n",
      "           NOAA 15 [B]  2025-07-21T19:19:21.720597  144.03   49.69    1032.70\n",
      "MAX Norwich NOAA 15 [B]  2025-07-21T19:20:46.536155   71.34   76.46     840.59\n",
      "           NOAA 15 [B]  2025-07-21T19:21:21.720597   18.02   67.89     877.42\n",
      "           NOAA 15 [B]  2025-07-21T19:23:21.720597  351.36   31.52    1385.82\n",
      "           NOAA 15 [B]  2025-07-21T19:25:21.720597  347.61   14.31    2121.10\n",
      "           NOAA 15 [B]  2025-07-21T19:27:21.720597  346.36    4.23    2909.24\n",
      "LOS 0 Norwich NOAA 15 [B]  2025-07-21T19:28:27.680103  346.05   -0.00    3348.27\n",
      "AOS 0 Norwich NOAA 15 [B]  2025-07-21T20:54:21.419882  207.72    0.00    3318.99\n",
      "           NOAA 15 [B]  2025-07-21T20:55:21.720597  212.33    3.20    2984.78\n",
      "           NOAA 15 [B]  2025-07-21T20:57:21.720597  225.24   10.17    2386.63\n",
      "           NOAA 15 [B]  2025-07-21T20:59:21.720597  245.89   16.97    1955.17\n",
      "MAX Norwich NOAA 15 [B]  2025-07-21T21:01:07.537293  271.06   19.73    1817.11\n",
      "           NOAA 15 [B]  2025-07-21T21:01:21.720597  274.63   19.68    1820.16\n",
      "           NOAA 15 [B]  2025-07-21T21:03:21.720597  301.86   15.56    2041.99\n",
      "           NOAA 15 [B]  2025-07-21T21:05:21.720597  320.32    8.58    2524.78\n",
      "           NOAA 15 [B]  2025-07-21T21:07:21.720597  331.93    1.88    3144.59\n",
      "LOS 0 Norwich NOAA 15 [B]  2025-07-21T21:07:58.176063  334.60   -0.00    3347.65\n",
      "AOS 0 Norwich NOAA 15 [B]  2025-07-22T07:22:24.244496   25.81    0.00    3344.34\n",
      "           NOAA 15 [B]  2025-07-22T07:23:21.720597   30.27    2.95    3029.89\n",
      "           NOAA 15 [B]  2025-07-22T07:25:21.720597   43.09    9.64    2436.65\n",
      "           NOAA 15 [B]  2025-07-22T07:27:21.720597   63.22   16.13    2002.84\n",
      "MAX Norwich NOAA 15 [B]  2025-07-22T07:29:10.645591   88.41   18.87    1852.98\n",
      "           NOAA 15 [B]  2025-07-22T07:29:21.720597   91.14   18.83    1854.13\n",
      "           NOAA 15 [B]  2025-07-22T07:31:21.720597  118.12   15.03    2056.91\n",
      "           NOAA 15 [B]  2025-07-22T07:33:21.720597  136.81    8.23    2526.62\n",
      "           NOAA 15 [B]  2025-07-22T07:35:21.720597  148.62    1.55    3141.41\n",
      "LOS 0 Norwich NOAA 15 [B]  2025-07-22T07:35:51.790388  150.87   -0.00    3308.32\n",
      "AOS 0 Norwich NOAA 15 [B]  2025-07-22T09:01:52.938334   14.15    0.00    3346.08\n",
      "           NOAA 15 [B]  2025-07-22T09:03:21.720597   13.86    5.86    2754.94\n",
      "           NOAA 15 [B]  2025-07-22T09:05:21.720597   12.78   16.80    1970.48\n",
      "           NOAA 15 [B]  2025-07-22T09:07:21.720597    9.02   36.65    1253.80\n",
      "           NOAA 15 [B]  2025-07-22T09:09:21.720597  319.16   77.58     833.99\n",
      "MAX Norwich NOAA 15 [B]  2025-07-22T09:09:33.971963  288.21   79.31     829.19\n",
      "           NOAA 15 [B]  2025-07-22T09:11:21.720597  209.20   42.90    1126.40\n",
      "           NOAA 15 [B]  2025-07-22T09:13:21.720597  203.91   19.53    1812.18\n",
      "           NOAA 15 [B]  2025-07-22T09:15:21.720597  202.43    7.41    2590.46\n",
      "LOS 0 Norwich NOAA 15 [B]  2025-07-22T09:17:09.275025  201.87   -0.00    3307.18\n",
      "AOS 0 Norwich NOAA 15 [B]  2025-07-22T10:42:05.570819    6.42    0.00    3346.78\n",
      "           NOAA 15 [B]  2025-07-22T10:43:21.720597    0.41    3.99    2930.53\n",
      "           NOAA 15 [B]  2025-07-22T10:45:21.720597  346.45   10.64    2365.03\n",
      "           NOAA 15 [B]  2025-07-22T10:47:21.720597  324.65   16.19    2003.06\n",
      "MAX Norwich NOAA 15 [B]  2025-07-22T10:48:32.413540  308.60   17.34    1937.32\n",
      "           NOAA 15 [B]  2025-07-22T10:49:21.720597  297.24   16.77    1966.95\n",
      "           NOAA 15 [B]  2025-07-22T10:51:21.720597  273.84   11.77    2272.46\n",
      "           NOAA 15 [B]  2025-07-22T10:53:21.720597  258.47    5.08    2806.26\n",
      "LOS 0 Norwich NOAA 15 [B]  2025-07-22T10:54:57.230685  250.43   -0.00    3318.87\n"
     ]
    }
   ],
   "source": [
    "import numpy as np\n",
    "from beyond.io.tle import Tle\n",
    "from beyond.frames import create_station\n",
    "from beyond.dates import Date, timedelta\n",
    "\n",
    "# Parse TLE\n",
    "tle = Tle(\"\"\"NOAA 15 [B]             \n",
    "1 25338U 98030A   20205.85092036  .00000065  00000-0  45627-4 0  9992\n",
    "2 25338  98.7149 230.7131 0010993 151.5401 208.6381 14.25980908154168\"\"\")\n",
    "\n",
    "# Create a station from which to compute the pass\n",
    "station = create_station('Norwich', (52, 1, 0))\n",
    "\n",
    "counter = 0\n",
    "\n",
    "for orb in station.visibility(tle.orbit(), start=Date.now(), stop=timedelta(days=2), step=timedelta(minutes=2), events=True):\n",
    "\n",
    "    # As all angles are given in radians,\n",
    "    # there is some conversion to do\n",
    "    azim = -np.degrees(orb.theta) % 360\n",
    "    elev = np.degrees(orb.phi)\n",
    "    r = orb.r / 1000.\n",
    "\n",
    "    print(\"{event:10} {tle.name}  {date:%Y-%m-%dT%H:%M:%S.%f} {azim:7.2f} {elev:7.2f} {r:10.2f}\".format(\n",
    "        date=orb.date, r=r, azim=azim, elev=elev,\n",
    "        tle=tle, event=orb.event if orb.event is not None else \"\"\n",
    "    ))\n",
    "\n",
    "    # Stop at the end of the first pass\n",
    "    if orb.event and orb.event.info == \"LOS\":\n",
    "        counter += 1\n",
    "        if counter >= 5:\n",
    "            break\n",
    "\n",
    "\n"
   ]
  },
  {
   "cell_type": "code",
   "execution_count": 7,
   "id": "3b200264-5d02-41a2-8d12-1060f6fabad6",
   "metadata": {},
   "outputs": [],
   "source": [
    "import matplotlib.pyplot as plt"
   ]
  },
  {
   "cell_type": "code",
   "execution_count": 8,
   "id": "28b85717-dbf2-4741-ab17-a4bebc11087e",
   "metadata": {},
   "outputs": [
    {
     "ename": "FileNotFoundError",
     "evalue": "[Errno 2] No such file or directory: 'earth2.png'",
     "output_type": "error",
     "traceback": [
      "\u001b[1;31m---------------------------------------------------------------------------\u001b[0m",
      "\u001b[1;31mFileNotFoundError\u001b[0m                         Traceback (most recent call last)",
      "Cell \u001b[1;32mIn[8], line 73\u001b[0m\n\u001b[0;32m     69\u001b[0m img \u001b[38;5;241m=\u001b[39m \u001b[38;5;124m\"\u001b[39m\u001b[38;5;124mearth2.png\u001b[39m\u001b[38;5;124m\"\u001b[39m\n\u001b[0;32m     70\u001b[0m \u001b[38;5;66;03m#with cbook.get_sample_data('earth2.png') as img:\u001b[39;00m\n\u001b[0;32m     71\u001b[0m \u001b[38;5;66;03m#    im = plt.imread(img)\u001b[39;00m\n\u001b[1;32m---> 73\u001b[0m im \u001b[38;5;241m=\u001b[39m plt\u001b[38;5;241m.\u001b[39mimread(img)\n\u001b[0;32m     74\u001b[0m plt\u001b[38;5;241m.\u001b[39mfigure(figsize\u001b[38;5;241m=\u001b[39m(\u001b[38;5;241m15.2\u001b[39m, \u001b[38;5;241m8.2\u001b[39m))\n\u001b[0;32m     75\u001b[0m plt\u001b[38;5;241m.\u001b[39mimshow(im, extent\u001b[38;5;241m=\u001b[39m[\u001b[38;5;241m-\u001b[39m\u001b[38;5;241m180\u001b[39m, \u001b[38;5;241m180\u001b[39m, \u001b[38;5;241m-\u001b[39m\u001b[38;5;241m90\u001b[39m, \u001b[38;5;241m90\u001b[39m])\n",
      "File \u001b[1;32m~\\anaconda3\\Lib\\site-packages\\matplotlib\\pyplot.py:2597\u001b[0m, in \u001b[0;36mimread\u001b[1;34m(fname, format)\u001b[0m\n\u001b[0;32m   2593\u001b[0m \u001b[38;5;129m@_copy_docstring_and_deprecators\u001b[39m(matplotlib\u001b[38;5;241m.\u001b[39mimage\u001b[38;5;241m.\u001b[39mimread)\n\u001b[0;32m   2594\u001b[0m \u001b[38;5;28;01mdef\u001b[39;00m \u001b[38;5;21mimread\u001b[39m(\n\u001b[0;32m   2595\u001b[0m         fname: \u001b[38;5;28mstr\u001b[39m \u001b[38;5;241m|\u001b[39m pathlib\u001b[38;5;241m.\u001b[39mPath \u001b[38;5;241m|\u001b[39m BinaryIO, \u001b[38;5;28mformat\u001b[39m: \u001b[38;5;28mstr\u001b[39m \u001b[38;5;241m|\u001b[39m \u001b[38;5;28;01mNone\u001b[39;00m \u001b[38;5;241m=\u001b[39m \u001b[38;5;28;01mNone\u001b[39;00m\n\u001b[0;32m   2596\u001b[0m ) \u001b[38;5;241m-\u001b[39m\u001b[38;5;241m>\u001b[39m np\u001b[38;5;241m.\u001b[39mndarray:\n\u001b[1;32m-> 2597\u001b[0m     \u001b[38;5;28;01mreturn\u001b[39;00m matplotlib\u001b[38;5;241m.\u001b[39mimage\u001b[38;5;241m.\u001b[39mimread(fname, \u001b[38;5;28mformat\u001b[39m)\n",
      "File \u001b[1;32m~\\anaconda3\\Lib\\site-packages\\matplotlib\\image.py:1544\u001b[0m, in \u001b[0;36mimread\u001b[1;34m(fname, format)\u001b[0m\n\u001b[0;32m   1537\u001b[0m \u001b[38;5;28;01mif\u001b[39;00m \u001b[38;5;28misinstance\u001b[39m(fname, \u001b[38;5;28mstr\u001b[39m) \u001b[38;5;129;01mand\u001b[39;00m \u001b[38;5;28mlen\u001b[39m(parse\u001b[38;5;241m.\u001b[39murlparse(fname)\u001b[38;5;241m.\u001b[39mscheme) \u001b[38;5;241m>\u001b[39m \u001b[38;5;241m1\u001b[39m:\n\u001b[0;32m   1538\u001b[0m     \u001b[38;5;66;03m# Pillow doesn't handle URLs directly.\u001b[39;00m\n\u001b[0;32m   1539\u001b[0m     \u001b[38;5;28;01mraise\u001b[39;00m \u001b[38;5;167;01mValueError\u001b[39;00m(\n\u001b[0;32m   1540\u001b[0m         \u001b[38;5;124m\"\u001b[39m\u001b[38;5;124mPlease open the URL for reading and pass the \u001b[39m\u001b[38;5;124m\"\u001b[39m\n\u001b[0;32m   1541\u001b[0m         \u001b[38;5;124m\"\u001b[39m\u001b[38;5;124mresult to Pillow, e.g. with \u001b[39m\u001b[38;5;124m\"\u001b[39m\n\u001b[0;32m   1542\u001b[0m         \u001b[38;5;124m\"\u001b[39m\u001b[38;5;124m``np.array(PIL.Image.open(urllib.request.urlopen(url)))``.\u001b[39m\u001b[38;5;124m\"\u001b[39m\n\u001b[0;32m   1543\u001b[0m         )\n\u001b[1;32m-> 1544\u001b[0m \u001b[38;5;28;01mwith\u001b[39;00m img_open(fname) \u001b[38;5;28;01mas\u001b[39;00m image:\n\u001b[0;32m   1545\u001b[0m     \u001b[38;5;28;01mreturn\u001b[39;00m (_pil_png_to_float_array(image)\n\u001b[0;32m   1546\u001b[0m             \u001b[38;5;28;01mif\u001b[39;00m \u001b[38;5;28misinstance\u001b[39m(image, PIL\u001b[38;5;241m.\u001b[39mPngImagePlugin\u001b[38;5;241m.\u001b[39mPngImageFile) \u001b[38;5;28;01melse\u001b[39;00m\n\u001b[0;32m   1547\u001b[0m             pil_to_array(image))\n",
      "File \u001b[1;32m~\\anaconda3\\Lib\\site-packages\\PIL\\ImageFile.py:126\u001b[0m, in \u001b[0;36mImageFile.__init__\u001b[1;34m(self, fp, filename)\u001b[0m\n\u001b[0;32m    122\u001b[0m \u001b[38;5;28mself\u001b[39m\u001b[38;5;241m.\u001b[39mdecodermaxblock \u001b[38;5;241m=\u001b[39m MAXBLOCK\n\u001b[0;32m    124\u001b[0m \u001b[38;5;28;01mif\u001b[39;00m is_path(fp):\n\u001b[0;32m    125\u001b[0m     \u001b[38;5;66;03m# filename\u001b[39;00m\n\u001b[1;32m--> 126\u001b[0m     \u001b[38;5;28mself\u001b[39m\u001b[38;5;241m.\u001b[39mfp \u001b[38;5;241m=\u001b[39m \u001b[38;5;28mopen\u001b[39m(fp, \u001b[38;5;124m\"\u001b[39m\u001b[38;5;124mrb\u001b[39m\u001b[38;5;124m\"\u001b[39m)\n\u001b[0;32m    127\u001b[0m     \u001b[38;5;28mself\u001b[39m\u001b[38;5;241m.\u001b[39mfilename \u001b[38;5;241m=\u001b[39m fp\n\u001b[0;32m    128\u001b[0m     \u001b[38;5;28mself\u001b[39m\u001b[38;5;241m.\u001b[39m_exclusive_fp \u001b[38;5;241m=\u001b[39m \u001b[38;5;28;01mTrue\u001b[39;00m\n",
      "\u001b[1;31mFileNotFoundError\u001b[0m: [Errno 2] No such file or directory: 'earth2.png'"
     ]
    }
   ],
   "source": [
    "import sys\n",
    "import numpy as np\n",
    "import matplotlib.pyplot as plt\n",
    "import matplotlib.image as mpimg\n",
    "from pathlib import Path\n",
    "\n",
    "from beyond.io.tle import Tle\n",
    "from beyond.dates import Date, timedelta\n",
    "\n",
    "\n",
    "# Parsing of TLE\n",
    "tle = Tle(\"\"\"NOAA 15 [B]             \n",
    "1 25338U 98030A   20191.81750536  .00000057  00000-0  42639-4 0  9999\n",
    "2 25338  98.7153 216.7534 0010156 191.4103 168.6848 14.25977849152168\"\"\")\n",
    "\n",
    "# Create a station from which to compute the pass\n",
    "# Conversion into `Orbit` object\n",
    "orb = tle.orbit()\n",
    "\n",
    "# Tables containing the positions of the ground track\n",
    "latitudes, longitudes = [], []\n",
    "prev_lon, prev_lat = None, None\n",
    "\n",
    "period = orb.infos.period\n",
    "\n",
    "#start = orb.date - period\n",
    "start = Date.now()\n",
    "stop = 1 * period\n",
    "step = period / 100\n",
    "\n",
    "for point in orb.ephemeris(start=start, stop=stop, step=step):\n",
    "\n",
    "    # Conversion to earth rotating frame\n",
    "    point.frame = 'ITRF'\n",
    "\n",
    "    # Conversion from cartesian to spherical coordinates (range, latitude, longitude)\n",
    "    point.form = 'spherical'\n",
    "\n",
    "    # Conversion from radians to degrees\n",
    "    lon, lat = np.degrees(point[1:3])\n",
    "\n",
    "    # Creation of multiple segments in order to not have a ground track\n",
    "    # doing impossible paths\n",
    "    if prev_lon is None:\n",
    "        lons = []\n",
    "        lats = []\n",
    "        longitudes.append(lons)\n",
    "        latitudes.append(lats)\n",
    "    elif orb.i < np.pi /2 and (np.sign(prev_lon) == 1 and np.sign(lon) == -1):\n",
    "        lons.append(lon + 360)\n",
    "        lats.append(lat)\n",
    "        lons = [prev_lon - 360]\n",
    "        lats = [prev_lat]\n",
    "        longitudes.append(lons)\n",
    "        latitudes.append(lats)\n",
    "    elif orb.i > np.pi/2 and (np.sign(prev_lon) == -1 and np.sign(lon) == 1):\n",
    "        lons.append(lon - 360)\n",
    "        lats.append(lat)\n",
    "        lons = [prev_lon + 360]\n",
    "        lats = [prev_lat]\n",
    "        longitudes.append(lons)\n",
    "        latitudes.append(lats)\n",
    "\n",
    "    lons.append(lon)\n",
    "    lats.append(lat)\n",
    "    prev_lon = lon\n",
    "    prev_lat = lat\n",
    "\n",
    "img = \"earth2.png\"\n",
    "#with cbook.get_sample_data('earth2.png') as img:\n",
    "#    im = plt.imread(img)\n",
    "\n",
    "im = plt.imread(img)\n",
    "plt.figure(figsize=(15.2, 8.2))\n",
    "plt.imshow(im, extent=[-180, 180, -90, 90])\n",
    "\n",
    "for lons, lats in zip(longitudes, latitudes):\n",
    "    plt.plot(lons, lats, 'w', linestyle=\":\", linewidth=3)\n",
    "\n",
    "torb1 = orb.copy(frame='ITRF', form='spherical').propagate(start)\n",
    "lon, lat = np.degrees(torb1[1:3])\n",
    "#torb = np.degrees(orb.ephemeris(start=start)[0][1:3])\n",
    "#lon, lat = np.degrees(orb.copy(frame='ITRF', form='spherical')[1:3])\n",
    "plt.plot([lon], [lat], 'ro')\n",
    "\n",
    "#lon, lat = np.degrees(orb.copy(frame='ITRF', form='spherical')[1:3])\n",
    "#plt.plot([lon], [lat], 'ro')\n",
    "dir(plt)\n",
    "\n",
    "#plt.xlim([-20, 20])\n",
    "#plt.ylim([30, 70])\n",
    "plt.xlim([-180, 180])\n",
    "plt.ylim([-90, 90])\n",
    "\n",
    "plt.grid(True, color='w', linestyle=\":\", alpha=0.4)\n",
    "#plt.xticks(range(-20, 20, 2))\n",
    "#plt.yticks(range(30, 70, 2))\n",
    "plt.xticks(range(-180, 181, 30))\n",
    "plt.yticks(range(-90, 91, 30))\n",
    "plt.tight_layout()\n",
    "\n",
    "#print(plt.type())\n",
    "print(dir(plt.axis()))\n",
    "\n",
    "#plt.axes['bottom'].set_color('#dddddd')\n",
    "#plt.Axes.spines['top'].set_color('#dddddd') \n",
    "#plt.Axes.spines['right'].set_color('red')\n",
    "#plt.Axes.spines['left'].set_color('red')\n",
    "\n",
    "#plt.show()\n"
   ]
  },
  {
   "cell_type": "code",
   "execution_count": null,
   "id": "f72bfdb0-6294-496c-a5b5-e18ade9d11f8",
   "metadata": {},
   "outputs": [],
   "source": [
    "torb1 = orb.propagate(start).copy(frame='ITRF', form='spherical')\n",
    "lon, lat = np.degrees(torb1[1:3])\n",
    "print(\"%s %s\" % (lon, lat))\n",
    "\n",
    "lon, lat = np.degrees(orb.copy(frame='ITRF', form='spherical')[1:3])\n",
    "print(\"%s %s\" % (lon, lat))\n"
   ]
  },
  {
   "cell_type": "code",
   "execution_count": null,
   "id": "0974b10e-c3cf-41f1-bb68-d01372b4fcb4",
   "metadata": {},
   "outputs": [],
   "source": [
    "orb.date"
   ]
  },
  {
   "cell_type": "code",
   "execution_count": null,
   "id": "ceef7c71-8553-4adb-80b2-b62c77f3541d",
   "metadata": {},
   "outputs": [],
   "source": [
    "import sys\n",
    "import numpy as np\n",
    "import matplotlib.pyplot as plt\n",
    "\n",
    "from beyond.dates import Date, timedelta\n",
    "from beyond.io.tle import Tle\n",
    "from beyond.frames import create_station\n",
    "from beyond.config import config\n",
    "\n",
    "\n",
    "tle = Tle(\"\"\"NOAA 15 [B]             \n",
    "1 25338U 98030A   20205.85092036  .00000065  00000-0  45627-4 0  9992\n",
    "2 25338  98.7149 230.7131 0010993 151.5401 208.6381 14.25980908154168\"\"\")\n",
    "\n",
    "# Create a station from which to compute the pass\n",
    "station = create_station('Norwich', (52.6, 1.19, 0))\n",
    "azims, elevs = [], []\n",
    "\n",
    "orbit = tle.orbit()\n",
    "\n",
    "start = None\n",
    "end = None\n",
    "max = max\n",
    "\n",
    "for orb in station.visibility(orbit, start=Date.now(), stop=timedelta(hours=24), step=timedelta(seconds=30), events=True):\n",
    "    elev = np.degrees(orb.phi)\n",
    "    # Radians are counterclockwise and azimuth is clockwise\n",
    "    azim = np.degrees(-orb.theta) % 360\n",
    "\n",
    "    # Archive for plotting\n",
    "    azims.append(azim)\n",
    "    # Matplotlib actually force 0 to be at the center of the polar plot,\n",
    "    # so we trick it by inverting the values\n",
    "    elevs.append(90 - elev)\n",
    "\n",
    "    r = orb.r / 1000.\n",
    "    \n",
    "    if orb.event is not None:\n",
    "        if orb.event.info =='AOS':\n",
    "            start = orb.date\n",
    "        if orb.event.info  == 'MAX':\n",
    "            max = elev\n",
    "        \n",
    "        if orb.event.info  == 'LOS':\n",
    "            \n",
    "            end = orb.date\n",
    "            if max >= 10:\n",
    "                print(\"Pass: %s %s %s\" % (start, max, end))\n",
    "    \n",
    "    #print(\"{event:7} {orb.date:%H:%M:%S} {azim:7.2f} {elev:7.2f} {r:10.2f} {orb.r_dot:10.2f}\".format(\n",
    "    #    orb=orb, r=r, azim=azim, elev=elev, event=orb.event.info if orb.event is not None else \"\"\n",
    "    #))\n",
    "    \n",
    "    #print (orb.event.info)\n",
    "\n",
    "    #if orb.event and orb.event.info.startswith(\"LOS\"):\n",
    "    #    # We stop at the end of the first pass\n",
    "    #    print()\n",
    "    #    break\n",
    "\n",
    "plt.figure()\n",
    "ax = plt.subplot(111, projection='polar')\n",
    "ax.set_theta_direction(-1)\n",
    "ax.set_theta_zero_location('N')\n",
    "plt.plot(np.radians(azims), elevs, '.')\n",
    "ax.set_yticks(range(0, 90, 20))\n",
    "ax.set_yticklabels(map(str, range(90, 0, -20)))\n",
    "ax.set_rmax(90)\n",
    "\n",
    "\n",
    "plt.show()\n"
   ]
  },
  {
   "cell_type": "markdown",
   "id": "3e7d07b4-9558-4a48-9381-b8c613bef992",
   "metadata": {},
   "source": [
    "# Predictions"
   ]
  },
  {
   "cell_type": "code",
   "execution_count": 9,
   "id": "50541503-9ed6-4855-9b58-0eb3f5890e5e",
   "metadata": {},
   "outputs": [],
   "source": [
    "import requests\n",
    "import numpy as np\n",
    "from beyond.dates import Date, timedelta\n",
    "from beyond.io.tle import Tle\n",
    "from beyond.frames import create_station\n",
    "from beyond.config import config\n",
    "\n",
    "\n",
    "# In[3]:\n",
    "\n",
    "\n",
    "celestrak_noaa =  \"https://celestrak.org/NORAD/elements/gp.php?GROUP=noaa&FORMAT=tle\"\n",
    "\n",
    "data = requests.get(celestrak_noaa)\n",
    "data = data.content.decode(\"utf-8\")\n",
    "rows = data.splitlines()\n",
    "\n",
    "tles = {}\n",
    "first = None\n",
    "second = None\n",
    "last = None\n",
    "for row in rows:\n",
    "    if not first:\n",
    "        first = row\n",
    "    elif not second:\n",
    "        second = row\n",
    "    else:\n",
    "        last = row\n",
    "        name = (first.split(\"[\")[0]).strip()\n",
    "        tles[name] = \"\"\"%s\n",
    "%s\n",
    "%s\"\"\" % (first, second, last)\n",
    "        first = None\n",
    "        second= None\n",
    "        \n",
    "\n"
   ]
  },
  {
   "cell_type": "code",
   "execution_count": 10,
   "id": "f2854f0b-4569-4359-965f-db3820c05040",
   "metadata": {},
   "outputs": [
    {
     "data": {
      "text/plain": [
       "'NOAA 15                 \\n1 25338U 98030A   25202.53139303  .00000185  00000+0  93588-4 0  9999\\n2 25338  98.5339 226.6500 0009268 232.2392 127.7950 14.26999468414388'"
      ]
     },
     "execution_count": 10,
     "metadata": {},
     "output_type": "execute_result"
    }
   ],
   "source": [
    "\n",
    "tles['NOAA 15']\n"
   ]
  },
  {
   "cell_type": "code",
   "execution_count": 11,
   "id": "51e15025-1d07-40bb-9bf1-67686eec3e52",
   "metadata": {},
   "outputs": [],
   "source": [
    "\n",
    "tle = Tle(tles['NOAA 15'])\n"
   ]
  },
  {
   "cell_type": "code",
   "execution_count": 12,
   "id": "5a65d5bb-035a-49ba-86cf-fc96c3948496",
   "metadata": {},
   "outputs": [
    {
     "name": "stderr",
     "output_type": "stream",
     "text": [
      "A frame with the name 'Norwich' is already registered. Overriding\n"
     ]
    }
   ],
   "source": [
    "\n",
    "station = create_station('Norwich', (52.5, 1.2, 0)) # obfuscated slightly\n"
   ]
  },
  {
   "cell_type": "code",
   "execution_count": 13,
   "id": "7dcacfe2-647f-4960-a28a-9255d0140fc5",
   "metadata": {},
   "outputs": [],
   "source": [
    "\n",
    "def predictions(tle, station, hours):\n",
    "    azims, elevs = [], []\n",
    "\n",
    "    orbit = tle.orbit()\n",
    "\n",
    "    start = None\n",
    "    end = None\n",
    "    max_alt = None\n",
    "\n",
    "    for orb in station.visibility(orbit, start=Date.now(), stop=timedelta(hours=hours), step=timedelta(seconds=30), events=True):\n",
    "        elev = np.degrees(orb.phi)\n",
    "        # Radians are counterclockwise and azimuth is clockwise\n",
    "        azim = np.degrees(-orb.theta) % 360\n",
    "\n",
    "        # Archive for plotting\n",
    "        azims.append(azim)\n",
    "        # Matplotlib actually force 0 to be at the center of the polar plot,\n",
    "        # so we trick it by inverting the values\n",
    "        elevs.append(90 - elev)\n",
    "\n",
    "        #r = orb.r / 1000.\n",
    "\n",
    "        if orb.event is not None:\n",
    "            if orb.event.info =='AOS': # aquisition of signal\n",
    "                start = orb.date\n",
    "            if orb.event.info  == 'MAX': \n",
    "                max_alt = elev\n",
    "\n",
    "            if orb.event.info  == 'LOS': # loss of signal\n",
    "\n",
    "                end = orb.date\n",
    "                if max_alt and max_alt >= 10:\n",
    "                    print(\"Pass: %s %s %s\" % (start, max_alt, end))\n",
    "                    start = None\n",
    "                    end = None\n",
    "                    max_alt = None"
   ]
  },
  {
   "cell_type": "code",
   "execution_count": 17,
   "id": "49097631-3782-4c53-bea5-1ac0b97143c8",
   "metadata": {},
   "outputs": [
    {
     "name": "stdout",
     "output_type": "stream",
     "text": [
      "Pass: 2025-07-21T19:49:52.698037 UTC 35.03473447796783 2025-07-21T20:04:53.256058 UTC\n",
      "Pass: 2025-07-21T21:30:03.877502 UTC 48.91371093414219 2025-07-21T21:45:42.551027 UTC\n",
      "Pass: 2025-07-22T09:45:11.592997 UTC 46.31613877178635 2025-07-22T10:00:43.641130 UTC\n",
      "Pass: 2025-07-22T11:25:59.732954 UTC 36.43051235065689 2025-07-22T11:41:01.232550 UTC\n"
     ]
    }
   ],
   "source": [
    "\n",
    "predictions(Tle(tles['NOAA 19']), station, 24)\n"
   ]
  },
  {
   "cell_type": "code",
   "execution_count": 15,
   "id": "db13ef3e-53e1-487b-b3cc-7d0e64ca6237",
   "metadata": {},
   "outputs": [
    {
     "name": "stdout",
     "output_type": "stream",
     "text": [
      "Pass: 2025-07-21T19:34:09.030736 UTC 12.42685256703339 2025-07-21T19:46:08.294105 UTC\n",
      "Pass: 2025-07-21T21:11:57.768688 UTC 50.374592099931185 2025-07-21T21:27:17.052698 UTC\n",
      "Pass: 2025-07-21T22:53:01.778404 UTC 31.719460832059937 2025-07-21T23:07:56.578660 UTC\n",
      "Pass: 2025-07-22T09:27:18.841343 UTC 13.469435677747422 2025-07-22T09:40:06.538969 UTC\n",
      "Pass: 2025-07-22T11:07:25.604256 UTC 72.46074875059531 2025-07-22T11:23:13.148462 UTC\n",
      "Pass: 2025-07-22T12:48:22.708637 UTC 25.07877802595632 2025-07-22T13:02:37.352724 UTC\n"
     ]
    }
   ],
   "source": [
    "\n",
    "predictions(Tle(tles['NOAA 18']), station, 24)\n"
   ]
  },
  {
   "cell_type": "code",
   "execution_count": 16,
   "id": "0a1c4579-b517-422b-853f-15ae223ef4f6",
   "metadata": {},
   "outputs": [
    {
     "name": "stdout",
     "output_type": "stream",
     "text": [
      "Pass: 2025-07-21T19:36:36.610221 UTC 21.768342111457635 2025-07-21T19:50:27.017908 UTC\n",
      "Pass: 2025-07-22T06:04:18.441467 UTC 17.39444568349942 2025-07-22T06:17:30.237092 UTC\n",
      "Pass: 2025-07-22T07:43:43.498350 UTC 86.18708806416475 2025-07-22T07:58:58.254121 UTC\n",
      "Pass: 2025-07-22T09:23:52.459682 UTC 18.87295519525284 2025-07-22T09:36:56.964218 UTC\n",
      "Pass: 2025-07-22T15:53:02.170167 UTC 10.99806632855495 2025-07-22T16:04:22.172635 UTC\n",
      "Pass: 2025-07-22T17:29:47.913088 UTC 45.90938030275255 2025-07-22T17:44:41.318743 UTC\n"
     ]
    }
   ],
   "source": [
    "\n",
    "predictions(Tle(tles['NOAA 15']), station, 24)\n"
   ]
  },
  {
   "cell_type": "code",
   "execution_count": null,
   "id": "e0560e40-d53f-4821-9986-35c37169a7ce",
   "metadata": {},
   "outputs": [],
   "source": []
  },
  {
   "cell_type": "code",
   "execution_count": null,
   "id": "ed38f866-ea30-4709-abbe-928679095717",
   "metadata": {},
   "outputs": [],
   "source": []
  },
  {
   "cell_type": "code",
   "execution_count": null,
   "id": "8a9cf26b-c3a0-4240-aae0-6ce123a77260",
   "metadata": {},
   "outputs": [],
   "source": []
  },
  {
   "cell_type": "code",
   "execution_count": null,
   "id": "fdc77b0c-b2df-41a2-9c83-1f26179a9bac",
   "metadata": {},
   "outputs": [],
   "source": []
  }
 ],
 "metadata": {
  "kernelspec": {
   "display_name": "Python 3 (ipykernel)",
   "language": "python",
   "name": "python3"
  },
  "language_info": {
   "codemirror_mode": {
    "name": "ipython",
    "version": 3
   },
   "file_extension": ".py",
   "mimetype": "text/x-python",
   "name": "python",
   "nbconvert_exporter": "python",
   "pygments_lexer": "ipython3",
   "version": "3.12.7"
  }
 },
 "nbformat": 4,
 "nbformat_minor": 5
}
